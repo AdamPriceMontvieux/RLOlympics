{
 "cells": [
  {
   "cell_type": "code",
   "execution_count": 1,
   "metadata": {},
   "outputs": [],
   "source": [
    "from bsuite import sweep\n",
    "import bsuite\n",
    "import os\n",
    "from rllib_wrapper import RLLibEnv\n",
    "from ray.rllib.algorithms.ppo import PPOConfig\n",
    "from ray import air\n",
    "from ray import tune\n",
    "from ray.tune.registry import register_env\n",
    "from multiprocessing.dummy import Pool"
   ]
  },
  {
   "cell_type": "code",
   "execution_count": 2,
   "metadata": {},
   "outputs": [
    {
     "name": "stdout",
     "output_type": "stream",
     "text": [
      "22\n"
     ]
    }
   ],
   "source": [
    "from bsuite import sweep\n",
    "envs = []\n",
    "for i in range(0,len(sweep.SWEEP),1):\n",
    "    if sweep.SWEEP[i].split('/')[0] not in envs:\n",
    "        if not 'swingup' in sweep.SWEEP[i].split('/')[0]:\n",
    "            envs.append(sweep.SWEEP[i].split('/')[0])\n",
    "env_strings = []\n",
    "#for s in ['1', '5', '10', '15']:\n",
    "for s in ['5']:\n",
    "    for e in envs:\n",
    "        env_strings.append(e+'/'+s)\n",
    "print(len(env_strings))\n",
    "\n",
    "path = '/Users/adamprice/RLOlympics/results/PPO_Test_128_batch_1024'\n",
    "if not os.path.exists(path):\n",
    "   os.makedirs(path)\n",
    "\n",
    "for env_str in env_strings:\n",
    "    def env_creator(env_config):\n",
    "        env = bsuite.load_and_record_to_csv(env_str, results_dir=path)\n",
    "        return RLLibEnv(env)\n",
    "    register_env(name=env_str.replace('/','_'), env_creator=env_creator)"
   ]
  },
  {
   "cell_type": "code",
   "execution_count": 3,
   "metadata": {},
   "outputs": [
    {
     "name": "stdout",
     "output_type": "stream",
     "text": [
      "bandit/5bandit_noise/5\n",
      "\n",
      "bandit_scale/5\n",
      "cartpole/5\n",
      "cartpole_noise/5\n",
      "\u001b[1m\u001b[97mLoaded bsuite_id: bandit_noise/5.\u001b[0m\n",
      "cartpole_scale/5\n",
      "\u001b[1m\u001b[97mLoaded bsuite_id: bandit/5.\u001b[0m\n",
      "catch/5\n",
      "\u001b[1m\u001b[97mLoaded bsuite_id: cartpole/5.\u001b[0m\n",
      "\u001b[1m\u001b[97mLoaded bsuite_id: catch/5.\u001b[0m\n",
      "catch_noise/5\n",
      "\u001b[1m\u001b[97mLoaded bsuite_id: bandit_scale/5.\u001b[0m\n",
      "catch_scale/5\n",
      "deep_sea/5\n",
      "\u001b[1m\u001b[97mLoaded bsuite_id: cartpole_scale/5.\u001b[0m\n",
      "\u001b[1m\u001b[97mLoaded bsuite_id: catch_noise/5.\u001b[0m\n",
      "\u001b[1m\u001b[97mLoaded bsuite_id: cartpole_noise/5.\u001b[0m\n",
      "\u001b[1m\u001b[97mLoaded bsuite_id: catch_scale/5.\u001b[0m\n",
      "\u001b[1m\u001b[97mLoaded bsuite_id: deep_sea/5.\u001b[0m\n"
     ]
    },
    {
     "name": "stderr",
     "output_type": "stream",
     "text": [
      "/Users/adamprice/Applications/anaconda3/envs/rlolympics/lib/python3.9/site-packages/ray/tune/logger/unified.py:53: RayDeprecationWarning: This API is deprecated and may be removed in future Ray releases. You could suppress this warning by setting env variable PYTHONWARNINGS=\"ignore::DeprecationWarning\"\n",
      "The `JsonLogger interface is deprecated in favor of the `ray.tune.json.JsonLoggerCallback` interface and will be removed in Ray 2.7.\n",
      "  self._loggers.append(cls(self.config, self.logdir, self.trial))\n",
      "/Users/adamprice/Applications/anaconda3/envs/rlolympics/lib/python3.9/site-packages/ray/tune/logger/unified.py:53: RayDeprecationWarning: This API is deprecated and may be removed in future Ray releases. You could suppress this warning by setting env variable PYTHONWARNINGS=\"ignore::DeprecationWarning\"\n",
      "The `CSVLogger interface is deprecated in favor of the `ray.tune.csv.CSVLoggerCallback` interface and will be removed in Ray 2.7.\n",
      "  self._loggers.append(cls(self.config, self.logdir, self.trial))\n",
      "/Users/adamprice/Applications/anaconda3/envs/rlolympics/lib/python3.9/site-packages/ray/tune/logger/unified.py:53: RayDeprecationWarning: This API is deprecated and may be removed in future Ray releases. You could suppress this warning by setting env variable PYTHONWARNINGS=\"ignore::DeprecationWarning\"\n",
      "The `TBXLogger interface is deprecated in favor of the `ray.tune.tensorboardx.TBXLoggerCallback` interface and will be removed in Ray 2.7.\n",
      "  self._loggers.append(cls(self.config, self.logdir, self.trial))\n",
      "/Users/adamprice/Applications/anaconda3/envs/rlolympics/lib/python3.9/site-packages/ray/rllib/algorithms/algorithm.py:442: RayDeprecationWarning: This API is deprecated and may be removed in future Ray releases. You could suppress this warning by setting env variable PYTHONWARNINGS=\"ignore::DeprecationWarning\"\n",
      "`UnifiedLogger` will be removed in Ray 2.7.\n",
      "  return UnifiedLogger(config, logdir, loggers=None)\n",
      "2023-07-19 16:03:05,853\tWARNING env.py:155 -- Your env doesn't have a .spec.max_episode_steps attribute. Your horizon will default to infinity, and your environment will not be reset.\n"
     ]
    },
    {
     "name": "stdout",
     "output_type": "stream",
     "text": [
      "\u001b[1m\u001b[97mLoaded bsuite_id: catch_noise/5.\u001b[0m\n",
      "\u001b[1m\u001b[33mLogging results to CSV file for each bsuite_id in /Users/adamprice/RLOlympics/results/PPO_Test_128_batch_1024.\u001b[0m\n",
      "\u001b[1m\u001b[97mLoaded bsuite_id: bandit_scale/5.\u001b[0m\n",
      "\u001b[1m\u001b[33mLogging results to CSV file for each bsuite_id in /Users/adamprice/RLOlympics/results/PPO_Test_128_batch_1024.\u001b[0m\n",
      "\u001b[1m\u001b[97mLoaded bsuite_id: catch_scale/5.\u001b[0m\n",
      "\u001b[1m\u001b[33mLogging results to CSV file for each bsuite_id in /Users/adamprice/RLOlympics/results/PPO_Test_128_batch_1024.\u001b[0m\n",
      "\u001b[1m\u001b[97mLoaded bsuite_id: cartpole_scale/5.\u001b[0m\n",
      "\u001b[1m\u001b[33mLogging results to CSV file for each bsuite_id in /Users/adamprice/RLOlympics/results/PPO_Test_128_batch_1024.\u001b[0m\n",
      "\u001b[1m\u001b[97mLoaded bsuite_id: cartpole/5.\u001b[0m\n",
      "\u001b[1m\u001b[33mLogging results to CSV file for each bsuite_id in /Users/adamprice/RLOlympics/results/PPO_Test_128_batch_1024.\u001b[0m\n",
      "\u001b[1m\u001b[97mLoaded bsuite_id: cartpole_noise/5.\u001b[0m\n",
      "\u001b[1m\u001b[33mLogging results to CSV file for each bsuite_id in /Users/adamprice/RLOlympics/results/PPO_Test_128_batch_1024.\u001b[0m\n",
      "\u001b[1m\u001b[97mLoaded bsuite_id: bandit_noise/5.\u001b[0m\n",
      "\u001b[1m\u001b[33mLogging results to CSV file for each bsuite_id in /Users/adamprice/RLOlympics/results/PPO_Test_128_batch_1024.\u001b[0m\n",
      "\u001b[1m\u001b[97mLoaded bsuite_id: deep_sea/5.\u001b[0m\n",
      "\u001b[1m\u001b[33mLogging results to CSV file for each bsuite_id in /Users/adamprice/RLOlympics/results/PPO_Test_128_batch_1024.\u001b[0m\n",
      "\u001b[1m\u001b[97mLoaded bsuite_id: catch/5.\u001b[0m\n",
      "\u001b[1m\u001b[33mLogging results to CSV file for each bsuite_id in /Users/adamprice/RLOlympics/results/PPO_Test_128_batch_1024.\u001b[0m\n",
      "\u001b[1m\u001b[97mLoaded bsuite_id: bandit/5.\u001b[0m\n",
      "\u001b[1m\u001b[33mLogging results to CSV file for each bsuite_id in /Users/adamprice/RLOlympics/results/PPO_Test_128_batch_1024.\u001b[0m\n"
     ]
    },
    {
     "name": "stderr",
     "output_type": "stream",
     "text": [
      "Install gputil for GPU system monitoring.\n",
      "Install gputil for GPU system monitoring.\n",
      "Install gputil for GPU system monitoring.\n",
      "Install gputil for GPU system monitoring.\n",
      "Install gputil for GPU system monitoring.\n",
      "Install gputil for GPU system monitoring.\n",
      "Install gputil for GPU system monitoring.\n",
      "Install gputil for GPU system monitoring.\n",
      "Install gputil for GPU system monitoring.\n",
      "Install gputil for GPU system monitoring.\n"
     ]
    }
   ],
   "source": [
    "def run_experiment(env):\n",
    "    config = PPOConfig()\n",
    "    config.training(lr=0.001, num_sgd_iter=8, train_batch_size=1024, entropy_coeff=0.001, sgd_minibatch_size=256, lambda_=0.95,\n",
    "                    model={\"fcnet_hiddens\": [128,128], \"fcnet_activation\": \"tanh\",})\n",
    "    config.resources(num_cpus_per_worker=1)\n",
    "    config.rollouts(num_rollout_workers=0)\n",
    "    #config.exploration(explore=True, exploration_config={\"type\": \"RE3\", \"embeds_dim\": 32, \"beta_schedule\": \"constant\", \"sub_exploration\": {\"type\": \"StochasticSampling\",},})\n",
    "    # config.exploration(explore=True, exploration_config={   \n",
    "    #                     \"type\": \"Curiosity\",\n",
    "    #                     \"eta\": 0.2,\n",
    "    #                     \"lr\": 0.001,\n",
    "    #                     \"feature_dim\": 64,\n",
    "    #                     \"feature_net_config\": {\n",
    "    #                         \"fcnet_hiddens\": [],\n",
    "    #                         \"fcnet_activation\": \"relu\",\n",
    "    #                     },\n",
    "    #                     \"sub_exploration\": {\n",
    "    #                         \"type\": \"StochasticSampling\",\n",
    "    #                     }},)\n",
    "    config.framework('torch')\n",
    "    print(env)\n",
    "    config.environment(env=env.replace('/','_'))\n",
    "    episode_limit = bsuite.load_from_id(env).bsuite_num_episodes\n",
    "    trainer = config.build()\n",
    "    \n",
    "    train = True\n",
    "    while train:\n",
    "        results = trainer.train()\n",
    "        train = results['episodes_total'] < episode_limit\n",
    "    \n",
    "    print('Finished: ', env)\n",
    "    return i\n",
    "\n",
    "pool = Pool(processes=10)\n",
    "pool.map(run_experiment, env_strings)\n",
    "pool.close()\n",
    "pool.join()"
   ]
  }
 ],
 "metadata": {
  "kernelspec": {
   "display_name": "rlolympics",
   "language": "python",
   "name": "python3"
  },
  "language_info": {
   "codemirror_mode": {
    "name": "ipython",
    "version": 3
   },
   "file_extension": ".py",
   "mimetype": "text/x-python",
   "name": "python",
   "nbconvert_exporter": "python",
   "pygments_lexer": "ipython3",
   "version": "3.9.0"
  },
  "orig_nbformat": 4
 },
 "nbformat": 4,
 "nbformat_minor": 2
}
